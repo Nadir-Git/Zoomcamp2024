{
 "cells": [
  {
   "cell_type": "code",
   "execution_count": 2,
   "id": "200bc1eb-5ea7-4323-bf7e-da7b8af2f321",
   "metadata": {},
   "outputs": [
    {
     "name": "stdout",
     "output_type": "stream",
     "text": [
      "Hello World in Codespaces\n"
     ]
    }
   ],
   "source": [
    "print('Hello World in Codespaces')"
   ]
  },
  {
   "cell_type": "code",
   "execution_count": 4,
   "id": "4f7c3500-5fcf-4bf4-abb5-a469083defec",
   "metadata": {},
   "outputs": [
    {
     "name": "stdout",
     "output_type": "stream",
     "text": [
      "H\n"
     ]
    }
   ],
   "source": [
    "print('H')"
   ]
  }
 ],
 "metadata": {
  "kernelspec": {
   "display_name": "Python 3 (ipykernel)",
   "language": "python",
   "name": "python3"
  },
  "language_info": {
   "codemirror_mode": {
    "name": "ipython",
    "version": 3
   },
   "file_extension": ".py",
   "mimetype": "text/x-python",
   "name": "python",
   "nbconvert_exporter": "python",
   "pygments_lexer": "ipython3",
   "version": "3.10.13"
  }
 },
 "nbformat": 4,
 "nbformat_minor": 5
}
